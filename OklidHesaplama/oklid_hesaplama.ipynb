{
 "cells": [
  {
   "cell_type": "code",
   "execution_count": null,
   "metadata": {},
   "outputs": [],
   "source": [
    "def get_points():\n",
    "    points = []\n",
    "    n = int(input(\"Kaç adet nokta gireceksiniz? \"))\n",
    "    for _ in range(n):\n",
    "        # Kullanıcıdan nokta koordinatlarını alma:\n",
    "        x_str,y_str = input(\"Noktayı 'x y' formatında girin (örnek: 2 3): \").split()\n",
    "        x = int(x_str)\n",
    "        y = int(y_str)\n",
    "        points.append((x, y))\n",
    "    return points"
   ]
  },
  {
   "cell_type": "code",
   "execution_count": null,
   "metadata": {},
   "outputs": [],
   "source": [
    "# Öklid hesaplama fonksiyonu:\n",
    "def euclideanDistance(point1, point2):\n",
    "    distance = 0\n",
    "    for i in range(len(point1)):\n",
    "        distance += pow((point1[i] - point2[i]), 2)\n",
    "    return distance ** 0.5"
   ]
  },
  {
   "cell_type": "code",
   "execution_count": null,
   "metadata": {},
   "outputs": [
    {
     "name": "stdout",
     "output_type": "stream",
     "text": [
      "(2, 5) ile (1, 3) arasındaki mesafe: 2.24\n",
      "(2, 5) ile (4, 6) arasındaki mesafe: 2.24\n",
      "(1, 3) ile (4, 6) arasındaki mesafe: 4.24\n"
     ]
    }
   ],
   "source": [
    "points = get_points()\n",
    "# Tüm noktalar arasındaki öklitlerin tek tek hesaplanması:\n",
    "for i in range(len(points)):\n",
    "    for j in range(i+1,len(points)):\n",
    "         print(f\"{points[i]} ile {points[j]} arasındaki mesafe: {euclideanDistance(points[i], points[j]):.2f}\")"
   ]
  }
 ],
 "metadata": {
  "kernelspec": {
   "display_name": "Python 3",
   "language": "python",
   "name": "python3"
  },
  "language_info": {
   "codemirror_mode": {
    "name": "ipython",
    "version": 3
   },
   "file_extension": ".py",
   "mimetype": "text/x-python",
   "name": "python",
   "nbconvert_exporter": "python",
   "pygments_lexer": "ipython3",
   "version": "3.12.3"
  }
 },
 "nbformat": 4,
 "nbformat_minor": 2
}
